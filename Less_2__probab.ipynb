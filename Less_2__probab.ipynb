{
  "nbformat": 4,
  "nbformat_minor": 0,
  "metadata": {
    "colab": {
      "name": "Less 2_ probab.ipynb",
      "provenance": [],
      "authorship_tag": "ABX9TyO4JXZaHqs9wEBbrRhSRE7r",
      "include_colab_link": true
    },
    "kernelspec": {
      "name": "python3",
      "display_name": "Python 3"
    },
    "language_info": {
      "name": "python"
    }
  },
  "cells": [
    {
      "cell_type": "markdown",
      "metadata": {
        "id": "view-in-github",
        "colab_type": "text"
      },
      "source": [
        "<a href=\"https://colab.research.google.com/github/MariaKalinina/Math_intro/blob/main/Less_2__probab.ipynb\" target=\"_parent\"><img src=\"https://colab.research.google.com/assets/colab-badge.svg\" alt=\"Open In Colab\"/></a>"
      ]
    },
    {
      "cell_type": "markdown",
      "metadata": {
        "id": "x0CDeFuu7A1Q"
      },
      "source": [
        "Задача 1. Вероятность того, что стрелок попадет в мишень, выстрелив один раз, равна 0.8. Стрелок выстрелил 100 раз. Найдите вероятность того, что стрелок попадет в цель ровно 85 раз."
      ]
    },
    {
      "cell_type": "code",
      "metadata": {
        "id": "mIo3EJhJ69kX",
        "colab": {
          "base_uri": "https://localhost:8080/"
        },
        "outputId": "dfdb4190-fca9-4ce0-9e79-703199afba48"
      },
      "source": [
        "from math import factorial \n",
        "def combinations(n, k):\n",
        "    return int(factorial(n) / (factorial(k) * factorial(n - k)))\n",
        "\n",
        "\n",
        "n = 100\n",
        "k = 85\n",
        "p = 8/10\n",
        "Success_shots = combinations(n, k) * (p ** k) * (1 - p) ** (n - k)\n",
        "\n",
        "print(f'Вероятность того, что стрелок попадет в цель ровно 85 раз \\nпри 100-кратных выстрелах = {Success_shots:.4f}')\n",
        "  "
      ],
      "execution_count": 7,
      "outputs": [
        {
          "output_type": "stream",
          "name": "stdout",
          "text": [
            "Вероятность того, что стрелок попадет в цель ровно 85 раз \n",
            "при 100-кратных выстрелах = 0.0481\n"
          ]
        }
      ]
    },
    {
      "cell_type": "markdown",
      "metadata": {
        "id": "UKJOxeEeBJhN"
      },
      "source": [
        "Задача 2. Вероятность того, что лампочка перегорит в течение первого дня эксплуатации, равна 0.0004. В жилом комплексе после ремонта в один день включили 5000 новых лампочек. Какова вероятность, что ни одна из них не перегорит в первый день? Какова вероятность, что перегорят ровно две?"
      ]
    },
    {
      "cell_type": "code",
      "metadata": {
        "id": "QO2NLoSdBJ9y"
      },
      "source": [
        ""
      ],
      "execution_count": null,
      "outputs": []
    },
    {
      "cell_type": "markdown",
      "metadata": {
        "id": "HRW82mTF6-ZX"
      },
      "source": [
        "задача 3. Монету подбросили 144 раза. Какова вероятность, что орел выпадет ровно 70 раз?"
      ]
    },
    {
      "cell_type": "code",
      "metadata": {
        "colab": {
          "base_uri": "https://localhost:8080/"
        },
        "id": "bXhrXE-V9R_r",
        "outputId": "b8d4c0e5-bbdc-4bbb-af60-227be10e49ef"
      },
      "source": [
        "from math import factorial \n",
        "def combinations(n, k):\n",
        "    return int(factorial(n) / (factorial(k) * factorial(n - k)))\n",
        "\n",
        "\n",
        "def F_bernulli(n, k, p):\n",
        "    return combinations(n, k) * (p ** k) * (1 - p) ** (n - k)\n",
        "\n",
        "\n",
        "n = 144\n",
        "k = 70\n",
        "p = 1/2\n",
        "coin_flip = F_bernulli(n, k, p)\n",
        "print(f'Вероятность, что орел выпадет ровно 70 раз, если монету подбросили 144 раза = {coin_flip:.4f} ')"
      ],
      "execution_count": 12,
      "outputs": [
        {
          "output_type": "stream",
          "name": "stdout",
          "text": [
            "Вероятность, что орел выпадет ровно 70 раз, если монету подбросили 144 раза = 0.0628 \n"
          ]
        }
      ]
    },
    {
      "cell_type": "markdown",
      "metadata": {
        "id": "POMK_SxKBlzj"
      },
      "source": [
        "Задача 4. В первом ящике находится 10 мячей, из которых 7 - белые. Во втором ящике - 11 мячей, из которых 9 белых. Из каждого ящика вытаскивают случайным образом по два мяча. Какова вероятность того, что все мячи белые? Какова вероятность того, что ровно два мяча белые? Какова вероятность того, что хотя бы один мяч белый?"
      ]
    },
    {
      "cell_type": "code",
      "metadata": {
        "id": "IoxUO-OGBmI6"
      },
      "source": [
        ""
      ],
      "execution_count": null,
      "outputs": []
    }
  ]
}